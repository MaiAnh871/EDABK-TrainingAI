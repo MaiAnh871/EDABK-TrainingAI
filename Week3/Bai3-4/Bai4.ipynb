{
 "cells": [
  {
   "cell_type": "code",
   "execution_count": 1,
   "metadata": {},
   "outputs": [],
   "source": [
    "import numpy as np\n",
    "import pandas as pd"
   ]
  },
  {
   "cell_type": "code",
   "execution_count": 2,
   "metadata": {},
   "outputs": [],
   "source": [
    "# Sigmoid function\n",
    "def sigmoid(x):\n",
    "        return 1/(1+np.exp(-x))"
   ]
  },
  {
   "cell_type": "code",
   "execution_count": 3,
   "metadata": {},
   "outputs": [],
   "source": [
    "# Derivative of sigmoid function\n",
    "def sigmoid_derivative(x):\n",
    "    return x*(1-x)"
   ]
  },
  {
   "cell_type": "code",
   "execution_count": 8,
   "metadata": {},
   "outputs": [],
   "source": [
    "class NeuralNetwork:\n",
    "    def __init__(self, layers, alpha=0.1):\n",
    "\t\t# Layer model example [2,2,1]\n",
    "        self.layers = layers \n",
    "      \n",
    "        # Learning rate parameter\n",
    "        self.alpha = alpha\n",
    "\t\t\n",
    "        # W, b parameters\n",
    "        self.W = []                                         # Other theta\n",
    "        self.b = []                                         # Theta of bias\n",
    "\n",
    "        # Init parameters each layers\n",
    "        for i in range(0, len(layers)-1):\n",
    "            w_ = np.random.randn(layers[i], layers[i+1])\n",
    "            b_ = np.zeros((layers[i+1], 1))\n",
    "            self.W.append(w_/layers[i])\n",
    "            self.b.append(b_)\n",
    "\n",
    "    # Summary NN model\n",
    "    def __repr__(self):\n",
    "        return \"Neural network [{}]\".format(\"-\".join(str(l) for l in self.layers))"
   ]
  },
  {
   "cell_type": "code",
   "execution_count": null,
   "metadata": {},
   "outputs": [],
   "source": []
  }
 ],
 "metadata": {
  "interpreter": {
   "hash": "3410afedb74081d81603511028deadddc25ba0f01c14e0cb891e2c2473f81884"
  },
  "kernelspec": {
   "display_name": "Python 3.8.10 64-bit",
   "language": "python",
   "name": "python3"
  },
  "language_info": {
   "codemirror_mode": {
    "name": "ipython",
    "version": 3
   },
   "file_extension": ".py",
   "mimetype": "text/x-python",
   "name": "python",
   "nbconvert_exporter": "python",
   "pygments_lexer": "ipython3",
   "version": "3.8.10"
  },
  "orig_nbformat": 4
 },
 "nbformat": 4,
 "nbformat_minor": 2
}
