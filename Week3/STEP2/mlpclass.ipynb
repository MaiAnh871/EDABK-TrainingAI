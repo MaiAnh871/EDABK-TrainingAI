{
 "cells": [
  {
   "cell_type": "code",
   "execution_count": 7,
   "metadata": {},
   "outputs": [],
   "source": [
    "from sklearn.neural_network import MLPClassifier\n",
    "from sklearn.metrics import accuracy_score\n",
    "import pandas as pd\n",
    "import numpy as np\n",
    "import matplotlib.pyplot as plt\n",
    "import sklearn\n",
    "from sklearn.model_selection import train_test_split\n",
    "from sklearn import preprocessing\n",
    "from sklearn.preprocessing import StandardScaler"
   ]
  },
  {
   "cell_type": "code",
   "execution_count": 8,
   "metadata": {},
   "outputs": [],
   "source": [
    "# The MLPClassifier in the scikit-learn package contains an implementation of a neural network.\n",
    "sknet = MLPClassifier(hidden_layer_sizes = (8), learning_rate_init = 0.001, max_iter = 100)\n",
    "# Notice that you specify just the number of hidden nodes when using the MLPClassifier—this is\n",
    "# because the size of the input feature is inferred from the dimension of the input data."
   ]
  },
  {
   "cell_type": "code",
   "execution_count": 10,
   "metadata": {},
   "outputs": [],
   "source": [
    "heart_df = pd.read_csv(\"heart.dat\", sep=' ', header = None)\n",
    "heart_df.columns = [\"age\", \"sex\", \"chest pain type (4 values)\", \"resting blood pressure\", \"serum cholesterol in mg/dl\", \"fasting blood sugar > 120 mg/dl\", \" resting electrocardiographic results (values 0,1,2)\", \"maximum heart rate achieved\", \"exercise induced angina\", \"oldpeak = ST depression induced by exercise relative to rest\", \"the slope of the peak exercise ST segment\", \"number of major vessels (0-3) colored by flourosopy\", \"thal: 3 = normal; 6 = fixed defect; 7 = reversable defect\", \"Absence (1) or presence (2)\"]\n",
    "\n",
    "X = heart_df.drop(columns=['Absence (1) or presence (2)']) # The drop() method removes the specified row or column. \n",
    "\n",
    "# Replace target class with 0 and 1 \n",
    "# 1 means \"have heart disease\" and 0 means \"do not have heart disease\"\n",
    "heart_df['Absence (1) or presence (2)'] = heart_df['Absence (1) or presence (2)'].replace(1, 0)\n",
    "heart_df['Absence (1) or presence (2)'] = heart_df['Absence (1) or presence (2)'].replace(2, 1)\n",
    "\n",
    "y_label = heart_df['Absence (1) or presence (2)'].values.reshape(X.shape[0], 1)\n",
    "\n",
    "# Split data into train and test set\n",
    "Xtrain, Xtest, ytrain, ytest = train_test_split(X, y_label, test_size = 0.2, random_state = 2)\n",
    "\n",
    "# Standardize the dataset\n",
    "sc = StandardScaler()\n",
    "sc.fit(Xtrain)\n",
    "Xtrain = sc.transform(Xtrain)\n",
    "Xtest = sc.transform(Xtest)"
   ]
  },
  {
   "cell_type": "code",
   "execution_count": 11,
   "metadata": {},
   "outputs": [
    {
     "name": "stderr",
     "output_type": "stream",
     "text": [
      "c:\\Users\\Admin\\AppData\\Local\\Programs\\Python\\Python38\\lib\\site-packages\\sklearn\\neural_network\\_multilayer_perceptron.py:1118: DataConversionWarning: A column-vector y was passed when a 1d array was expected. Please change the shape of y to (n_samples, ), for example using ravel().\n",
      "  y = column_or_1d(y, warn=True)\n"
     ]
    },
    {
     "name": "stdout",
     "output_type": "stream",
     "text": [
      "Train accuracy of sklearn neural network: 77.0\n",
      "Test accuracy of sklearn neural network: 70.0\n"
     ]
    },
    {
     "name": "stderr",
     "output_type": "stream",
     "text": [
      "c:\\Users\\Admin\\AppData\\Local\\Programs\\Python\\Python38\\lib\\site-packages\\sklearn\\neural_network\\_multilayer_perceptron.py:702: ConvergenceWarning: Stochastic Optimizer: Maximum iterations (100) reached and the optimization hasn't converged yet.\n",
      "  warnings.warn(\n"
     ]
    }
   ],
   "source": [
    "sknet.fit(Xtrain, ytrain)\n",
    "preds_train = sknet.predict(Xtrain)\n",
    "preds_test = sknet.predict(Xtest)\n",
    "\n",
    "print(\"Train accuracy of sklearn neural network: {}\".format(round(accuracy_score(preds_train, ytrain),2)*100))\n",
    "print(\"Test accuracy of sklearn neural network: {}\".format(round(accuracy_score(preds_test, ytest),2)*100))\n"
   ]
  }
 ],
 "metadata": {
  "interpreter": {
   "hash": "a4868653bb6f8972e87e4c446ab8a445a15b25dedb8594cc74c480f8152ea86a"
  },
  "kernelspec": {
   "display_name": "Python 3.8.10 64-bit",
   "language": "python",
   "name": "python3"
  },
  "language_info": {
   "codemirror_mode": {
    "name": "ipython",
    "version": 3
   },
   "file_extension": ".py",
   "mimetype": "text/x-python",
   "name": "python",
   "nbconvert_exporter": "python",
   "pygments_lexer": "ipython3",
   "version": "3.8.10"
  },
  "orig_nbformat": 4
 },
 "nbformat": 4,
 "nbformat_minor": 2
}
