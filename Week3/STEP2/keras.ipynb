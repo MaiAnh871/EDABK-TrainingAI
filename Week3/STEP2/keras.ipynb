{
 "cells": [
  {
   "cell_type": "code",
   "execution_count": 4,
   "metadata": {},
   "outputs": [],
   "source": [
    "import pandas as pd\n",
    "import numpy as np\n",
    "import matplotlib.pyplot as plt\n",
    "import sklearn\n",
    "from sklearn.model_selection import train_test_split\n",
    "from sklearn import preprocessing\n",
    "from sklearn.preprocessing import StandardScaler\n",
    "import tensorflow as tf"
   ]
  },
  {
   "cell_type": "code",
   "execution_count": 5,
   "metadata": {},
   "outputs": [],
   "source": [
    "heart_df = pd.read_csv(\"heart.dat\", sep=' ', header = None)\n",
    "heart_df.columns = [\"age\", \"sex\", \"chest pain type (4 values)\", \"resting blood pressure\", \"serum cholesterol in mg/dl\", \"fasting blood sugar > 120 mg/dl\", \" resting electrocardiographic results (values 0,1,2)\", \"maximum heart rate achieved\", \"exercise induced angina\", \"oldpeak = ST depression induced by exercise relative to rest\", \"the slope of the peak exercise ST segment\", \"number of major vessels (0-3) colored by flourosopy\", \"thal: 3 = normal; 6 = fixed defect; 7 = reversable defect\", \"Absence (1) or presence (2)\"]\n",
    "\n",
    "X = heart_df.drop(columns=['Absence (1) or presence (2)']) # The drop() method removes the specified row or column. \n",
    "\n",
    "# Replace target class with 0 and 1 \n",
    "# 1 means \"have heart disease\" and 0 means \"do not have heart disease\"\n",
    "heart_df['Absence (1) or presence (2)'] = heart_df['Absence (1) or presence (2)'].replace(1, 0)\n",
    "heart_df['Absence (1) or presence (2)'] = heart_df['Absence (1) or presence (2)'].replace(2, 1)\n",
    "\n",
    "y_label = heart_df['Absence (1) or presence (2)'].values.reshape(X.shape[0], 1)\n",
    "\n",
    "# Split data into train and test set\n",
    "Xtrain, Xtest, ytrain, ytest = train_test_split(X, y_label, test_size = 0.2, random_state = 2)\n",
    "\n",
    "# Standardize the dataset\n",
    "sc = StandardScaler()\n",
    "sc.fit(Xtrain)\n",
    "Xtrain = sc.transform(Xtrain)\n",
    "Xtest = sc.transform(Xtest)"
   ]
  },
  {
   "cell_type": "code",
   "execution_count": 7,
   "metadata": {},
   "outputs": [],
   "source": [
    "from tensorflow.keras import Sequential\n",
    "from tensorflow.keras.layers import Dense\n",
    "from tensorflow.keras.optimizers import Adam"
   ]
  },
  {
   "cell_type": "code",
   "execution_count": 9,
   "metadata": {},
   "outputs": [],
   "source": [
    "# Define the model\n",
    "#  The Sequential module can accept a series of layers stacked on top of each other.\n",
    "model = Sequential()\n",
    "model.add(Dense(8, input_shape = (13,)))\n",
    "model.add(Dense(1, activation = 'sigmoid'))"
   ]
  },
  {
   "cell_type": "code",
   "execution_count": 10,
   "metadata": {},
   "outputs": [],
   "source": [
    "# This tells Keras that you want to create stacks of layers. Next, you add two Dense layers. \n",
    "# The first Dense layer has an input shape of 13 and 8 hidden nodes, while the second Dense layer, \n",
    "# which is your output, has a single node and uses the sigmoid activation function."
   ]
  },
  {
   "cell_type": "code",
   "execution_count": 11,
   "metadata": {},
   "outputs": [],
   "source": [
    "# Next, compile the model by passing in the loss function, an optimizer that tells the network how to learn, and a \n",
    "# metric to be calculated:\n",
    "# Compile the model\n",
    "opt = Adam(learning_rate = 0.001)\n",
    "model.compile(optimizer = opt, loss = 'binary_crossentropy', metrics = ['accuracy'])"
   ]
  },
  {
   "cell_type": "code",
   "execution_count": 12,
   "metadata": {},
   "outputs": [
    {
     "name": "stdout",
     "output_type": "stream",
     "text": [
      "Train accuracy of keras neural network: 87.04\n",
      "Test accuracy of keras neural network: 75.93\n"
     ]
    }
   ],
   "source": [
    "# After compiling, you’ll train the network and evaluate it:\n",
    "model.fit(Xtrain, ytrain, epochs = 100, verbose = 0)\n",
    "train_acc = model.evaluate(Xtrain, ytrain, verbose=0)[1]\n",
    "test_acc = model.evaluate(Xtest, ytest, verbose=0)[1]\n",
    "\n",
    "print(\"Train accuracy of keras neural network: {}\".format(round((train_acc * 100), 2)))\n",
    "print(\"Test accuracy of keras neural network: {}\".format(round((test_acc * 100), 2)))"
   ]
  }
 ],
 "metadata": {
  "interpreter": {
   "hash": "a4868653bb6f8972e87e4c446ab8a445a15b25dedb8594cc74c480f8152ea86a"
  },
  "kernelspec": {
   "display_name": "Python 3.8.10 64-bit",
   "language": "python",
   "name": "python3"
  },
  "language_info": {
   "codemirror_mode": {
    "name": "ipython",
    "version": 3
   },
   "file_extension": ".py",
   "mimetype": "text/x-python",
   "name": "python",
   "nbconvert_exporter": "python",
   "pygments_lexer": "ipython3",
   "version": "3.8.10"
  },
  "orig_nbformat": 4
 },
 "nbformat": 4,
 "nbformat_minor": 2
}
