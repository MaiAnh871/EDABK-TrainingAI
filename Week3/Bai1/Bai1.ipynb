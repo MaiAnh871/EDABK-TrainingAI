{
 "cells": [
  {
   "cell_type": "code",
   "execution_count": 2,
   "metadata": {},
   "outputs": [],
   "source": [
    "import numpy as np\n",
    "import pandas as pd\n",
    "import matplotlib.pyplot as plt"
   ]
  },
  {
   "cell_type": "code",
   "execution_count": 3,
   "metadata": {},
   "outputs": [],
   "source": [
    "#numOfPoint = 30\n",
    "#noise = np.random.normal(0,1,numOfPoint).reshape(-1,1)\n",
    "#x = np.linspace(30, 100, numOfPoint).reshape(-1,1)\n",
    "#N = x.shape[0]\n",
    "#y = 15*x + 8 + 20*noise\n",
    "#plt.scatter(x, y)"
   ]
  },
  {
   "cell_type": "code",
   "execution_count": 4,
   "metadata": {},
   "outputs": [
    {
     "data": {
      "text/plain": [
       "Text(0, 0.5, 'cost')"
      ]
     },
     "execution_count": 4,
     "metadata": {},
     "output_type": "execute_result"
    },
    {
     "data": {
      "image/png": "[encoded data removed]",
      "text/plain": [
       "<Figure size 432x288 with 1 Axes>"
      ]
     },
     "metadata": {
      "needs_background": "light"
     },
     "output_type": "display_data"
    }
   ],
   "source": [
    "data = pd.read_csv('data_linear.csv').values\n",
    "N = data.shape[0]\n",
    "x = data[:, 0].reshape(-1, 1)\n",
    "y = data[:, 1].reshape(-1, 1)\n",
    "plt.scatter(x, y)\n",
    "plt.xlabel('square meters')\n",
    "plt.ylabel('cost')"
   ]
  },
  {
   "cell_type": "code",
   "execution_count": 7,
   "metadata": {},
   "outputs": [
    {
     "data": {
      "text/plain": [
       "array([[  1.    ,   1.    ,   1.    ,  30.    ],\n",
       "       [  1.    ,   1.    ,   1.    ,  32.4138],\n",
       "       [  1.    ,   1.    ,   1.    ,  34.8276],\n",
       "       [  1.    ,   1.    ,   1.    ,  37.2414],\n",
       "       [  1.    ,   1.    ,   1.    ,  39.6552],\n",
       "       [  1.    ,   1.    ,   1.    ,  42.069 ],\n",
       "       [  1.    ,   1.    ,   1.    ,  44.4828],\n",
       "       [  1.    ,   1.    ,   1.    ,  46.8966],\n",
       "       [  1.    ,   1.    ,   1.    ,  49.3103],\n",
       "       [  1.    ,   1.    ,   1.    ,  51.7241],\n",
       "       [  1.    ,   1.    ,   1.    ,  54.1379],\n",
       "       [  1.    ,   1.    ,   1.    ,  56.5517],\n",
       "       [  1.    ,   1.    ,   1.    ,  58.9655],\n",
       "       [  1.    ,   1.    ,   1.    ,  61.3793],\n",
       "       [  1.    ,   1.    ,   1.    ,  63.7931],\n",
       "       [  1.    ,   1.    ,   1.    ,  66.2069],\n",
       "       [  1.    ,   1.    ,   1.    ,  68.6207],\n",
       "       [  1.    ,   1.    ,   1.    ,  71.0345],\n",
       "       [  1.    ,   1.    ,   1.    ,  73.4483],\n",
       "       [  1.    ,   1.    ,   1.    ,  75.8621],\n",
       "       [  1.    ,   1.    ,   1.    ,  78.2759],\n",
       "       [  1.    ,   1.    ,   1.    ,  80.6897],\n",
       "       [  1.    ,   1.    ,   1.    ,  83.1034],\n",
       "       [  1.    ,   1.    ,   1.    ,  85.5172],\n",
       "       [  1.    ,   1.    ,   1.    ,  87.931 ],\n",
       "       [  1.    ,   1.    ,   1.    ,  90.3448],\n",
       "       [  1.    ,   1.    ,   1.    ,  92.7586],\n",
       "       [  1.    ,   1.    ,   1.    ,  95.1724],\n",
       "       [  1.    ,   1.    ,   1.    ,  97.5862],\n",
       "       [  1.    ,   1.    ,   1.    , 100.    ]])"
      ]
     },
     "execution_count": 7,
     "metadata": {},
     "output_type": "execute_result"
    }
   ],
   "source": [
    "# Add column of ones to x\n",
    "x = np.hstack((np.ones((N, 1)), x))\n",
    "x"
   ]
  },
  {
   "cell_type": "code",
   "execution_count": 9,
   "metadata": {},
   "outputs": [
    {
     "data": {
      "text/plain": [
       "array([[0.],\n",
       "       [1.]])"
      ]
     },
     "execution_count": 9,
     "metadata": {},
     "output_type": "execute_result"
    }
   ],
   "source": [
    "# Initialize parameter of theta\n",
    "w = np.array([0.,1.]).reshape(-1,1)\n",
    "w"
   ]
  },
  {
   "cell_type": "code",
   "execution_count": 10,
   "metadata": {},
   "outputs": [
    {
     "data": {
      "text/plain": [
       "array([[0.],\n",
       "       [0.],\n",
       "       [0.],\n",
       "       [0.],\n",
       "       [0.],\n",
       "       [0.],\n",
       "       [0.],\n",
       "       [0.],\n",
       "       [0.],\n",
       "       [0.],\n",
       "       [0.],\n",
       "       [0.],\n",
       "       [0.],\n",
       "       [0.],\n",
       "       [0.],\n",
       "       [0.],\n",
       "       [0.],\n",
       "       [0.],\n",
       "       [0.],\n",
       "       [0.],\n",
       "       [0.],\n",
       "       [0.],\n",
       "       [0.],\n",
       "       [0.],\n",
       "       [0.],\n",
       "       [0.],\n",
       "       [0.],\n",
       "       [0.],\n",
       "       [0.],\n",
       "       [0.],\n",
       "       [0.],\n",
       "       [0.],\n",
       "       [0.],\n",
       "       [0.],\n",
       "       [0.],\n",
       "       [0.],\n",
       "       [0.],\n",
       "       [0.],\n",
       "       [0.],\n",
       "       [0.],\n",
       "       [0.],\n",
       "       [0.],\n",
       "       [0.],\n",
       "       [0.],\n",
       "       [0.],\n",
       "       [0.],\n",
       "       [0.],\n",
       "       [0.],\n",
       "       [0.],\n",
       "       [0.],\n",
       "       [0.],\n",
       "       [0.],\n",
       "       [0.],\n",
       "       [0.],\n",
       "       [0.],\n",
       "       [0.],\n",
       "       [0.],\n",
       "       [0.],\n",
       "       [0.],\n",
       "       [0.],\n",
       "       [0.],\n",
       "       [0.],\n",
       "       [0.],\n",
       "       [0.],\n",
       "       [0.],\n",
       "       [0.],\n",
       "       [0.],\n",
       "       [0.],\n",
       "       [0.],\n",
       "       [0.],\n",
       "       [0.],\n",
       "       [0.],\n",
       "       [0.],\n",
       "       [0.],\n",
       "       [0.],\n",
       "       [0.],\n",
       "       [0.],\n",
       "       [0.],\n",
       "       [0.],\n",
       "       [0.],\n",
       "       [0.],\n",
       "       [0.],\n",
       "       [0.],\n",
       "       [0.],\n",
       "       [0.],\n",
       "       [0.],\n",
       "       [0.],\n",
       "       [0.],\n",
       "       [0.],\n",
       "       [0.],\n",
       "       [0.],\n",
       "       [0.],\n",
       "       [0.],\n",
       "       [0.],\n",
       "       [0.],\n",
       "       [0.],\n",
       "       [0.],\n",
       "       [0.],\n",
       "       [0.],\n",
       "       [0.]])"
      ]
     },
     "execution_count": 10,
     "metadata": {},
     "output_type": "execute_result"
    }
   ],
   "source": [
    "numOfIteration = 100 \n",
    "cost = np.zeros((numOfIteration,1))\n",
    "cost"
   ]
  },
  {
   "cell_type": "code",
   "execution_count": 11,
   "metadata": {},
   "outputs": [],
   "source": [
    "learning_rate = 0.000001"
   ]
  }
 ],
 "metadata": {
  "interpreter": {
   "hash": "3410afedb74081d81603511028deadddc25ba0f01c14e0cb891e2c2473f81884"
  },
  "kernelspec": {
   "display_name": "Python 3.8.10 64-bit",
   "language": "python",
   "name": "python3"
  },
  "language_info": {
   "codemirror_mode": {
    "name": "ipython",
    "version": 3
   },
   "file_extension": ".py",
   "mimetype": "text/x-python",
   "name": "python",
   "nbconvert_exporter": "python",
   "pygments_lexer": "ipython3",
   "version": "3.8.10"
  },
  "orig_nbformat": 4
 },
 "nbformat": 4,
 "nbformat_minor": 2
}
