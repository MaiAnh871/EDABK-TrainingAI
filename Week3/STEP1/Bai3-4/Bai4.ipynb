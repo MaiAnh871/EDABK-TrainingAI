{
 "cells": [
  {
   "cell_type": "code",
   "execution_count": 8,
   "metadata": {},
   "outputs": [],
   "source": [
    "import numpy as np\n",
    "import pandas as pd"
   ]
  },
  {
   "cell_type": "code",
   "execution_count": 9,
   "metadata": {},
   "outputs": [],
   "source": [
    "# Sigmoid function\n",
    "def sigmoid(x):\n",
    "        return 1/(1+np.exp(-x))"
   ]
  },
  {
   "cell_type": "code",
   "execution_count": 10,
   "metadata": {},
   "outputs": [],
   "source": [
    "# Derivative of sigmoid function\n",
    "def sigmoid_derivative(x):\n",
    "    return x*(1-x)"
   ]
  },
  {
   "cell_type": "code",
   "execution_count": 11,
   "metadata": {},
   "outputs": [],
   "source": [
    "class NeuralNetwork:\n",
    "    def __init__(self, layers, alpha=0.1):\n",
    "\t\t# Layer model example [2,2,1]\n",
    "        self.layers = layers \n",
    "      \n",
    "        # Learning rate parameter\n",
    "        self.alpha = alpha\n",
    "\t\t\n",
    "        # W, b parameters\n",
    "        self.W = []                                         # Other theta\n",
    "        self.b = []                                         # Theta of bias\n",
    "\n",
    "        # Init parameters each layers\n",
    "        for i in range(0, len(layers)-1):\n",
    "            w_ = np.random.randn(layers[i], layers[i+1])\n",
    "            b_ = np.zeros((layers[i+1], 1))\n",
    "            self.W.append(w_/layers[i])\n",
    "            self.b.append(b_)\n",
    "\n",
    "    # Summary NN model\n",
    "    def __repr__(self):\n",
    "        return \"Neural network [{}]\".format(\"-\".join(str(l) for l in self.layers))\n",
    "\n",
    "        # Train model with data\n",
    "    def fit_partial(self, x, y):\n",
    "        A = [x]\n",
    "        \n",
    "        # Feedforward\n",
    "        out = A[-1]\n",
    "        for i in range(0, len(self.layers) - 1):\n",
    "            out = sigmoid(np.dot(out, self.W[i]) + (self.b[i].T))\n",
    "            A.append(out)\n",
    "        \n",
    "        # Backpropagation\n",
    "        y = y.reshape(-1, 1)\n",
    "        dA = [-(y/A[-1] - (1-y)/(1-A[-1]))]\n",
    "        dW = []\n",
    "        db = []\n",
    "        for i in reversed(range(0, len(self.layers)-1)):\n",
    "            dw_ = np.dot((A[i]).T, dA[-1] * sigmoid_derivative(A[i+1]))\n",
    "            db_ = (np.sum(dA[-1] * sigmoid_derivative(A[i+1]), 0)).reshape(-1,1)\n",
    "            dA_ = np.dot(dA[-1] * sigmoid_derivative(A[i+1]), self.W[i].T)\n",
    "            dW.append(dw_)\n",
    "            db.append(db_)\n",
    "            dA.append(dA_)\n",
    "        \n",
    "        # Reverse dW, db\n",
    "        dW = dW[::-1]\n",
    "        db = db[::-1]\n",
    "        \n",
    "\t\t# Gradient descent\n",
    "        for i in range(0, len(self.layers)-1):\n",
    "            self.W[i] = self.W[i] - self.alpha * dW[i]\n",
    "            self.b[i] = self.b[i] - self.alpha * db[i]\n",
    "\n",
    "    # epochs: number of times fit the data to calculate gradient descent  \n",
    "    # verbose: after how many epochs, then print the loss.\n",
    "    def fit(self, X, y, epochs=20, verbose=10):                 \n",
    "        for epoch in range(0, epochs):\n",
    "            self.fit_partial(X, y)\n",
    "            if epoch % verbose == 0:\n",
    "                loss = self.calculate_loss(X, y)\n",
    "                print(\"Epoch {}, loss {}\".format(epoch, loss))\n",
    "    \n",
    "\t# Prediction\n",
    "    def predict(self, X):\n",
    "        for i in range(0, len(self.layers) - 1):\n",
    "            X = sigmoid(np.dot(X, self.W[i]) + (self.b[i].T))\n",
    "        return X\n",
    "\n",
    "\t# Calculate loss function\n",
    "    def calculate_loss(self, X, y):\n",
    "        y_predict = self.predict(X)\n",
    "        #return np.sum((y_predict-y)**2)/2\n",
    "        return -(np.sum(y*np.log(y_predict) + (1-y)*np.log(1-y_predict))) "
   ]
  },
  {
   "cell_type": "code",
   "execution_count": 12,
   "metadata": {},
   "outputs": [],
   "source": [
    "data = pd.read_csv('dataset.csv').values\n",
    "N, d = data.shape # Salary and working time\n",
    "X = data[:, 0:d-1].reshape(-1, d-1)\n",
    "y = data[:, 2].reshape(-1, 1)"
   ]
  },
  {
   "cell_type": "code",
   "execution_count": 13,
   "metadata": {},
   "outputs": [],
   "source": [
    "p = NeuralNetwork([X.shape[1], 2, 1], 0.1)"
   ]
  },
  {
   "cell_type": "code",
   "execution_count": 14,
   "metadata": {},
   "outputs": [
    {
     "data": {
      "text/plain": [
       "2"
      ]
     },
     "execution_count": 14,
     "metadata": {},
     "output_type": "execute_result"
    }
   ],
   "source": [
    "X.shape[1]"
   ]
  },
  {
   "cell_type": "code",
   "execution_count": 15,
   "metadata": {},
   "outputs": [
    {
     "name": "stdout",
     "output_type": "stream",
     "text": [
      "Epoch 0, loss 13.380891249149206\n",
      "Epoch 100, loss 11.414507087965601\n",
      "Epoch 200, loss 9.515272531930922\n",
      "Epoch 300, loss 18.728518468545577\n",
      "Epoch 400, loss 15.776248754072032\n",
      "Epoch 500, loss 8.6447424882366\n",
      "Epoch 600, loss 9.547556855511301\n",
      "Epoch 700, loss 8.518028108627805\n",
      "Epoch 800, loss 5.007415087721405\n",
      "Epoch 900, loss 3.6462893191619554\n",
      "Epoch 1000, loss 0.5942339334878142\n",
      "Epoch 1100, loss 0.17773240229872955\n",
      "Epoch 1200, loss 0.10331702166861992\n",
      "Epoch 1300, loss 0.07267521926174804\n",
      "Epoch 1400, loss 0.05603598804426108\n",
      "Epoch 1500, loss 0.045600992541337905\n",
      "Epoch 1600, loss 0.038449081424042346\n",
      "Epoch 1700, loss 0.03324234799005168\n",
      "Epoch 1800, loss 0.029282338095831476\n",
      "Epoch 1900, loss 0.026169053321460207\n",
      "Epoch 2000, loss 0.02365701206637165\n",
      "Epoch 2100, loss 0.021587243790360453\n",
      "Epoch 2200, loss 0.01985227884672915\n",
      "Epoch 2300, loss 0.018376860966527377\n",
      "Epoch 2400, loss 0.017106721100495874\n",
      "Epoch 2500, loss 0.016001738900358223\n",
      "Epoch 2600, loss 0.015031614019843154\n",
      "Epoch 2700, loss 0.014173034756374209\n",
      "Epoch 2800, loss 0.01340777281118175\n",
      "Epoch 2900, loss 0.012721369075422031\n",
      "Epoch 3000, loss 0.012102207082687652\n",
      "Epoch 3100, loss 0.011540846978444538\n",
      "Epoch 3200, loss 0.011029538379206534\n",
      "Epoch 3300, loss 0.010561858468947593\n",
      "Epoch 3400, loss 0.010132439313535357\n",
      "Epoch 3500, loss 0.009736759745359806\n",
      "Epoch 3600, loss 0.009370984656688926\n",
      "Epoch 3700, loss 0.009031839562227896\n",
      "Epoch 3800, loss 0.008716511718513556\n",
      "Epoch 3900, loss 0.008422571463583536\n",
      "Epoch 4000, loss 0.008147909111340761\n",
      "Epoch 4100, loss 0.007890683926166594\n",
      "Epoch 4200, loss 0.007649282562871895\n",
      "Epoch 4300, loss 0.007422284984625271\n",
      "Epoch 4400, loss 0.007208436334514518\n",
      "Epoch 4500, loss 0.007006623581504758\n",
      "Epoch 4600, loss 0.0068158560211632165\n",
      "Epoch 4700, loss 0.006635248908585614\n",
      "Epoch 4800, loss 0.006464009651690507\n",
      "Epoch 4900, loss 0.006301426109398491\n",
      "Epoch 5000, loss 0.006146856629475401\n",
      "Epoch 5100, loss 0.00599972153154851\n",
      "Epoch 5200, loss 0.005859495796403014\n",
      "Epoch 5300, loss 0.005725702766800405\n",
      "Epoch 5400, loss 0.005597908700152277\n",
      "Epoch 5500, loss 0.00547571804159504\n",
      "Epoch 5600, loss 0.0053587693086646565\n",
      "Epoch 5700, loss 0.005246731497184939\n",
      "Epoch 5800, loss 0.005139300932913426\n",
      "Epoch 5900, loss 0.005036198505741011\n",
      "Epoch 6000, loss 0.004937167233270194\n",
      "Epoch 6100, loss 0.004841970108880469\n",
      "Epoch 6200, loss 0.004750388196265847\n",
      "Epoch 6300, loss 0.004662218938101866\n",
      "Epoch 6400, loss 0.004577274651290128\n",
      "Epoch 6500, loss 0.0044953811851781685\n",
      "Epoch 6600, loss 0.004416376722531271\n",
      "Epoch 6700, loss 0.004340110705838195\n",
      "Epoch 6800, loss 0.004266442873913803\n",
      "Epoch 6900, loss 0.0041952423958139225\n",
      "Epoch 7000, loss 0.004126387090762183\n",
      "Epoch 7100, loss 0.00405976272430103\n",
      "Epoch 7200, loss 0.0039952623720886276\n",
      "Epoch 7300, loss 0.003932785843907916\n",
      "Epoch 7400, loss 0.0038722391613034844\n",
      "Epoch 7500, loss 0.003813534083135181\n",
      "Epoch 7600, loss 0.003756587673982254\n",
      "Epoch 7700, loss 0.0037013219109531636\n",
      "Epoch 7800, loss 0.003647663324966978\n",
      "Epoch 7900, loss 0.003595542673035875\n",
      "Epoch 8000, loss 0.003544894638459894\n",
      "Epoch 8100, loss 0.00349565755620128\n",
      "Epoch 8200, loss 0.003447773161004369\n",
      "Epoch 8300, loss 0.0034011863560933727\n",
      "Epoch 8400, loss 0.0033558450005065433\n",
      "Epoch 8500, loss 0.003311699713347454\n",
      "Epoch 8600, loss 0.003268703693392587\n",
      "Epoch 8700, loss 0.003226812552674179\n",
      "Epoch 8800, loss 0.0031859841627888408\n",
      "Epoch 8900, loss 0.003146178512811424\n",
      "Epoch 9000, loss 0.0031073575778056326\n",
      "Epoch 9100, loss 0.003069485197004567\n",
      "Epoch 9200, loss 0.0030325269608771663\n",
      "Epoch 9300, loss 0.0029964501062897187\n",
      "Epoch 9400, loss 0.002961223419128533\n",
      "Epoch 9500, loss 0.0029268171437423947\n",
      "Epoch 9600, loss 0.002893202898686626\n",
      "Epoch 9700, loss 0.002860353598227937\n",
      "Epoch 9800, loss 0.0028282433791802317\n",
      "Epoch 9900, loss 0.0027968475326435945\n"
     ]
    }
   ],
   "source": [
    "p.fit(X, y, 10000, 100)"
   ]
  },
  {
   "cell_type": "code",
   "execution_count": null,
   "metadata": {},
   "outputs": [],
   "source": []
  }
 ],
 "metadata": {
  "interpreter": {
   "hash": "25a19fbe0a9132dfb9279d48d161753c6352f8f9478c2e74383d340069b907c3"
  },
  "kernelspec": {
   "display_name": "Python 3.8.10 64-bit",
   "language": "python",
   "name": "python3"
  },
  "language_info": {
   "codemirror_mode": {
    "name": "ipython",
    "version": 3
   },
   "file_extension": ".py",
   "mimetype": "text/x-python",
   "name": "python",
   "nbconvert_exporter": "python",
   "pygments_lexer": "ipython3",
   "version": "3.8.10"
  },
  "orig_nbformat": 4
 },
 "nbformat": 4,
 "nbformat_minor": 2
}
