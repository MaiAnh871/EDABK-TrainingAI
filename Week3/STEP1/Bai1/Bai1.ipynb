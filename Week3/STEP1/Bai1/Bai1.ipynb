{
 "cells": [
  {
   "cell_type": "code",
   "execution_count": 1,
   "metadata": {},
   "outputs": [],
   "source": [
    "import numpy as np\n",
    "import pandas as pd\n",
    "import matplotlib.pyplot as plt"
   ]
  },
  {
   "cell_type": "code",
   "execution_count": 2,
   "metadata": {},
   "outputs": [],
   "source": [
    "#numOfPoint = 30\n",
    "#noise = np.random.normal(0,1,numOfPoint).reshape(-1,1)\n",
    "#x = np.linspace(30, 100, numOfPoint).reshape(-1,1)\n",
    "#N = x.shape[0]\n",
    "#y = 15*x + 8 + 20*noise\n",
    "#plt.scatter(x, y)"
   ]
  },
  {
   "cell_type": "code",
   "execution_count": 3,
   "metadata": {},
   "outputs": [
    {
     "data": {
      "text/plain": [
       "Text(0, 0.5, 'cost')"
      ]
     },
     "execution_count": 3,
     "metadata": {},
     "output_type": "execute_result"
    },
    {
     "data": {
      "image/png": "[encoded data removed]",
      "text/plain": [
       "<Figure size 432x288 with 1 Axes>"
      ]
     },
     "metadata": {
      "needs_background": "light"
     },
     "output_type": "display_data"
    }
   ],
   "source": [
    "data = pd.read_csv('data_linear.csv').values\n",
    "N = data.shape[0]\n",
    "x = data[:, 0].reshape(-1, 1)\n",
    "y = data[:, 1].reshape(-1, 1)\n",
    "plt.scatter(x, y)\n",
    "plt.xlabel('square meters')\n",
    "plt.ylabel('cost')"
   ]
  },
  {
   "cell_type": "code",
   "execution_count": 4,
   "metadata": {},
   "outputs": [
    {
     "data": {
      "text/plain": [
       "array([[  1.    ,  30.    ],\n",
       "       [  1.    ,  32.4138],\n",
       "       [  1.    ,  34.8276],\n",
       "       [  1.    ,  37.2414],\n",
       "       [  1.    ,  39.6552],\n",
       "       [  1.    ,  42.069 ],\n",
       "       [  1.    ,  44.4828],\n",
       "       [  1.    ,  46.8966],\n",
       "       [  1.    ,  49.3103],\n",
       "       [  1.    ,  51.7241],\n",
       "       [  1.    ,  54.1379],\n",
       "       [  1.    ,  56.5517],\n",
       "       [  1.    ,  58.9655],\n",
       "       [  1.    ,  61.3793],\n",
       "       [  1.    ,  63.7931],\n",
       "       [  1.    ,  66.2069],\n",
       "       [  1.    ,  68.6207],\n",
       "       [  1.    ,  71.0345],\n",
       "       [  1.    ,  73.4483],\n",
       "       [  1.    ,  75.8621],\n",
       "       [  1.    ,  78.2759],\n",
       "       [  1.    ,  80.6897],\n",
       "       [  1.    ,  83.1034],\n",
       "       [  1.    ,  85.5172],\n",
       "       [  1.    ,  87.931 ],\n",
       "       [  1.    ,  90.3448],\n",
       "       [  1.    ,  92.7586],\n",
       "       [  1.    ,  95.1724],\n",
       "       [  1.    ,  97.5862],\n",
       "       [  1.    , 100.    ]])"
      ]
     },
     "execution_count": 4,
     "metadata": {},
     "output_type": "execute_result"
    }
   ],
   "source": [
    "# Add column of ones to x\n",
    "x = np.hstack((np.ones((N, 1)), x))\n",
    "x"
   ]
  },
  {
   "cell_type": "code",
   "execution_count": 5,
   "metadata": {},
   "outputs": [
    {
     "data": {
      "text/plain": [
       "array([[0.],\n",
       "       [1.]])"
      ]
     },
     "execution_count": 5,
     "metadata": {},
     "output_type": "execute_result"
    }
   ],
   "source": [
    "# Initialize parameter of theta\n",
    "w = np.array([0.,1.]).reshape(-1,1)\n",
    "w"
   ]
  },
  {
   "cell_type": "code",
   "execution_count": 6,
   "metadata": {},
   "outputs": [
    {
     "data": {
      "text/plain": [
       "array([[0.],\n",
       "       [0.],\n",
       "       [0.],\n",
       "       [0.],\n",
       "       [0.],\n",
       "       [0.],\n",
       "       [0.],\n",
       "       [0.],\n",
       "       [0.],\n",
       "       [0.],\n",
       "       [0.],\n",
       "       [0.],\n",
       "       [0.],\n",
       "       [0.],\n",
       "       [0.],\n",
       "       [0.],\n",
       "       [0.],\n",
       "       [0.],\n",
       "       [0.],\n",
       "       [0.],\n",
       "       [0.],\n",
       "       [0.],\n",
       "       [0.],\n",
       "       [0.],\n",
       "       [0.],\n",
       "       [0.],\n",
       "       [0.],\n",
       "       [0.],\n",
       "       [0.],\n",
       "       [0.],\n",
       "       [0.],\n",
       "       [0.],\n",
       "       [0.],\n",
       "       [0.],\n",
       "       [0.],\n",
       "       [0.],\n",
       "       [0.],\n",
       "       [0.],\n",
       "       [0.],\n",
       "       [0.],\n",
       "       [0.],\n",
       "       [0.],\n",
       "       [0.],\n",
       "       [0.],\n",
       "       [0.],\n",
       "       [0.],\n",
       "       [0.],\n",
       "       [0.],\n",
       "       [0.],\n",
       "       [0.],\n",
       "       [0.],\n",
       "       [0.],\n",
       "       [0.],\n",
       "       [0.],\n",
       "       [0.],\n",
       "       [0.],\n",
       "       [0.],\n",
       "       [0.],\n",
       "       [0.],\n",
       "       [0.],\n",
       "       [0.],\n",
       "       [0.],\n",
       "       [0.],\n",
       "       [0.],\n",
       "       [0.],\n",
       "       [0.],\n",
       "       [0.],\n",
       "       [0.],\n",
       "       [0.],\n",
       "       [0.],\n",
       "       [0.],\n",
       "       [0.],\n",
       "       [0.],\n",
       "       [0.],\n",
       "       [0.],\n",
       "       [0.],\n",
       "       [0.],\n",
       "       [0.],\n",
       "       [0.],\n",
       "       [0.],\n",
       "       [0.],\n",
       "       [0.],\n",
       "       [0.],\n",
       "       [0.],\n",
       "       [0.],\n",
       "       [0.],\n",
       "       [0.],\n",
       "       [0.],\n",
       "       [0.],\n",
       "       [0.],\n",
       "       [0.],\n",
       "       [0.],\n",
       "       [0.],\n",
       "       [0.],\n",
       "       [0.],\n",
       "       [0.],\n",
       "       [0.],\n",
       "       [0.],\n",
       "       [0.],\n",
       "       [0.]])"
      ]
     },
     "execution_count": 6,
     "metadata": {},
     "output_type": "execute_result"
    }
   ],
   "source": [
    "numOfIteration = 100 \n",
    "cost = np.zeros((numOfIteration,1))\n",
    "cost"
   ]
  },
  {
   "cell_type": "code",
   "execution_count": 7,
   "metadata": {},
   "outputs": [],
   "source": [
    "learning_rate = 0.000001"
   ]
  },
  {
   "cell_type": "code",
   "execution_count": 10,
   "metadata": {},
   "outputs": [
    {
     "name": "stdout",
     "output_type": "stream",
     "text": [
      "[13929872.64455245]\n",
      "[10306582.37422079]\n",
      "[7625999.18237673]\n",
      "[5642849.69326854]\n",
      "[4175675.71851866]\n",
      "[3090230.83195734]\n",
      "[2287196.82094014]\n",
      "[1693096.06938209]\n",
      "[1253568.35550934]\n",
      "[928396.89128833]\n",
      "[687828.48611463]\n",
      "[509851.12972016]\n",
      "[378179.89312088]\n",
      "[280766.8575313]\n",
      "[208698.72973386]\n",
      "[155381.27570385]\n",
      "[115935.94816237]\n",
      "[86753.4994753]\n",
      "[65163.7354763]\n",
      "[49191.19268689]\n",
      "[37374.38339803]\n",
      "[28632.06953731]\n",
      "[22164.32937972]\n",
      "[17379.36470576]\n",
      "[13839.35126131]\n",
      "[11220.37783611]\n",
      "[9282.80838638]\n",
      "[7849.35533562]\n",
      "[6788.85776037]\n",
      "[6004.28016513]\n",
      "[5423.83373397]\n",
      "[4994.40765352]\n",
      "[4676.70947326]\n",
      "[4441.66984614]\n",
      "[4267.78268312]\n",
      "[4139.13734594]\n",
      "[4043.96282366]\n",
      "[3973.55068504]\n",
      "[3921.4582571]\n",
      "[3882.91912046]\n",
      "[3854.40698198]\n",
      "[3833.3130189]\n",
      "[3817.70717153]\n",
      "[3806.16154282]\n",
      "[3797.61974572]\n",
      "[3791.30024382]\n",
      "[3786.62484071]\n",
      "[3783.16577503]\n",
      "[3780.60658031]\n",
      "[3778.71312826]\n",
      "[3777.31220606]\n",
      "[3776.27566738]\n",
      "[3775.50870698]\n",
      "[3774.94118601]\n",
      "[3774.52121437]\n",
      "[3774.21040269]\n",
      "[3773.98034975]\n",
      "[3773.81004376]\n",
      "[3773.68393976]\n",
      "[3773.59053729]\n",
      "[3773.52132808]\n",
      "[3773.47001751]\n",
      "[3773.43194874]\n",
      "[3773.4036765]\n",
      "[3773.38265195]\n",
      "[3773.36698937]\n",
      "[3773.3552937]\n",
      "[3773.34653282]\n",
      "[3773.33994316]\n",
      "[3773.33495981]\n",
      "[3773.33116485]\n",
      "[3773.32824908]\n",
      "[3773.32598375]\n",
      "[3773.32419963]\n",
      "[3773.32277153]\n",
      "[3773.32160681]\n",
      "[3773.32063694]\n",
      "[3773.31981124]\n",
      "[3773.31909219]\n",
      "[3773.31845205]\n",
      "[3773.31787028]\n",
      "[3773.3173317]\n",
      "[3773.31682507]\n",
      "[3773.31634209]\n",
      "[3773.31587659]\n",
      "[3773.31542403]\n",
      "[3773.31498104]\n",
      "[3773.31454514]\n",
      "[3773.31411448]\n",
      "[3773.3136877]\n",
      "[3773.31326379]\n",
      "[3773.312842]\n",
      "[3773.31242178]\n",
      "[3773.31200273]\n",
      "[3773.31158454]\n",
      "[3773.31116698]\n",
      "[3773.3107499]\n",
      "[3773.31033317]\n",
      "[3773.3099167]\n"
     ]
    }
   ],
   "source": [
    "for i in range(1, numOfIteration):\n",
    "    r = np.dot(x, w) - y            # Error = x * theta - y\n",
    "    cost[i] = 0.5 * np.sum(r*r)     # Cost = 1/2 * sigma(error^2)\n",
    "    w[0] -= learning_rate*np.sum(r) # x = x – learning_rate * f'(x)\n",
    "    # correct the shape dimension\n",
    "    w[1] -= learning_rate*np.sum(np.multiply(r, x[:,1].reshape(-1,1)))\n",
    "    print(cost[i])"
   ]
  },
  {
   "cell_type": "code",
   "execution_count": 16,
   "metadata": {},
   "outputs": [
    {
     "data": {
      "image/png": "[encoded data removed]",
      "text/plain": [
       "<Figure size 432x288 with 1 Axes>"
      ]
     },
     "metadata": {
      "needs_background": "light"
     },
     "output_type": "display_data"
    }
   ],
   "source": [
    "predict = np.dot(x, w)\n",
    "plt.plot((x[0][1], x[N-1][1]),(predict[0], predict[N-1]), 'r')\n",
    "plt.show()"
   ]
  },
  {
   "cell_type": "code",
   "execution_count": 17,
   "metadata": {},
   "outputs": [
    {
     "name": "stdout",
     "output_type": "stream",
     "text": [
      "Cost for 50m^2 house is :  [755.68795083]\n"
     ]
    }
   ],
   "source": [
    "x1 = 50\n",
    "y1 = w[0] + w[1] * 50\n",
    "print('Cost for 50m^2 house is : ', y1)"
   ]
  }
 ],
 "metadata": {
  "interpreter": {
   "hash": "3410afedb74081d81603511028deadddc25ba0f01c14e0cb891e2c2473f81884"
  },
  "kernelspec": {
   "display_name": "Python 3.8.10 64-bit",
   "language": "python",
   "name": "python3"
  },
  "language_info": {
   "codemirror_mode": {
    "name": "ipython",
    "version": 3
   },
   "file_extension": ".py",
   "mimetype": "text/x-python",
   "name": "python",
   "nbconvert_exporter": "python",
   "pygments_lexer": "ipython3",
   "version": "3.8.10"
  },
  "orig_nbformat": 4
 },
 "nbformat": 4,
 "nbformat_minor": 2
}
