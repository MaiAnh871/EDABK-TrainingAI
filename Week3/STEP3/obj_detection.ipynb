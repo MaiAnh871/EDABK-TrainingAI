{
 "cells": [
  {
   "cell_type": "code",
   "execution_count": 1,
   "metadata": {},
   "outputs": [],
   "source": [
    "# Step1: Indicate necessary library\n",
    "import cv2\n",
    "import numpy as np"
   ]
  },
  {
   "cell_type": "code",
   "execution_count": 2,
   "metadata": {},
   "outputs": [],
   "source": [
    "# Step2: Initial background subtractor\n",
    "backSub = cv2.createBackgroundSubtractorMOG2()"
   ]
  },
  {
   "cell_type": "code",
   "execution_count": 3,
   "metadata": {},
   "outputs": [
    {
     "ename": "KeyboardInterrupt",
     "evalue": "",
     "output_type": "error",
     "traceback": [
      "\u001b[1;31m---------------------------------------------------------------------------\u001b[0m",
      "\u001b[1;31mKeyboardInterrupt\u001b[0m                         Traceback (most recent call last)",
      "\u001b[1;32me:\\STUDY\\LAB\\EDABK-TrainingAI\\Week3\\STEP3\\obj_detection.ipynb Cell 3'\u001b[0m in \u001b[0;36m<cell line: 5>\u001b[1;34m()\u001b[0m\n\u001b[0;32m      <a href='vscode-notebook-cell:/e%3A/STUDY/LAB/EDABK-TrainingAI/Week3/STEP3/obj_detection.ipynb#ch0000002?line=6'>7</a>\u001b[0m     \u001b[39mbreak\u001b[39;00m\n\u001b[0;32m      <a href='vscode-notebook-cell:/e%3A/STUDY/LAB/EDABK-TrainingAI/Week3/STEP3/obj_detection.ipynb#ch0000002?line=8'>9</a>\u001b[0m     \u001b[39m# Step 4: Process frame by frame with background Subtractor in Step 2\u001b[39;00m\n\u001b[1;32m---> <a href='vscode-notebook-cell:/e%3A/STUDY/LAB/EDABK-TrainingAI/Week3/STEP3/obj_detection.ipynb#ch0000002?line=9'>10</a>\u001b[0m fgMask \u001b[39m=\u001b[39m backSub\u001b[39m.\u001b[39;49mapply(frame)\n\u001b[0;32m     <a href='vscode-notebook-cell:/e%3A/STUDY/LAB/EDABK-TrainingAI/Week3/STEP3/obj_detection.ipynb#ch0000002?line=10'>11</a>\u001b[0m fgMask \u001b[39m=\u001b[39m cv2\u001b[39m.\u001b[39mcvtColor(fgMask, \u001b[39m0\u001b[39m) \u001b[39m# Convert fgMask into grayscale\u001b[39;00m\n\u001b[0;32m     <a href='vscode-notebook-cell:/e%3A/STUDY/LAB/EDABK-TrainingAI/Week3/STEP3/obj_detection.ipynb#ch0000002?line=12'>13</a>\u001b[0m \u001b[39m# Use erode, dilate and Gausian blur to decrease noise\u001b[39;00m\n",
      "\u001b[1;31mKeyboardInterrupt\u001b[0m: "
     ]
    },
    {
     "ename": "",
     "evalue": "",
     "output_type": "error",
     "traceback": [
      "\u001b[1;31mThe Kernel crashed while executing code in the the current cell or a previous cell. Please review the code in the cell(s) to identify a possible cause of the failure. Click <a href='https://aka.ms/vscodeJupyterKernelCrash'>here</a> for more info. View Jupyter <a href='command:jupyter.viewOutput'>log</a> for further details."
     ]
    }
   ],
   "source": [
    "# Step3: Initial Video Capture and iterator frame by frame\n",
    "capture = cv2.VideoCapture('test.mp4')\n",
    "\n",
    "while True:\n",
    "    _, frame = capture.read()\n",
    "    if not _:\n",
    "        break\n",
    "\n",
    "        # Step 4: Process frame by frame with background Subtractor in Step 2\n",
    "    fgMask = backSub.apply(frame)\n",
    "    fgMask = cv2.cvtColor(fgMask, 0) # Convert fgMask into grayscale\n",
    "\n",
    "    # Use erode, dilate and Gausian blur to decrease noise\n",
    "    kernel = np.ones((5,5), np.uint8)\n",
    "    fgMask = cv2.erode(fgMask, kernel, iterations = 1)\n",
    "    fgMask = cv2.dilate(fgMask, kernel, iterations = 1)\n",
    "    fgMask = cv2.GaussianBlur(fgMask, (3,3), 0)\n",
    "    fgMask = cv2.morphologyEx(fgMask, cv2.MORPH_CLOSE, kernel)\n",
    "    _, fgMask = cv2.threshold(fgMask, 130, 255, cv2.THRESH_BINARY) # COnver fgMask into binary\n",
    "\n",
    "    # Draw bounding box\n",
    "    fgMask = cv2.Canny(fgMask, 20, 200) # Detect edge\n",
    "    contours, _ = cv2.findContours(fgMask, cv2.RETR_TREE, cv2.CHAIN_APPROX_SIMPLE)\n",
    "\n",
    "    # Use boundingRect to fine bounding box\n",
    "    for i in range(len(contours)):\n",
    "        (x, y, w, h) = cv2.boundingRect(contours[i])\n",
    "        area = cv2.contourArea(contours[i])\n",
    "        if area > 300:\n",
    "            cv2.drawContours(fgMask, contours[i], 0, (0, 0, 255), 6)\n",
    "            cv2.rectangle(frame, (x, y), (x+w, y+h), (0, 255, 0), 2)\n",
    "    \n",
    "    cv2.imshow('Frame', frame)\n",
    "\n",
    "    keyboard = cv2.waitKey(30)\n",
    "    if keyboard == 'q' or keyboard == 27:\n",
    "        break\n"
   ]
  }
 ],
 "metadata": {
  "interpreter": {
   "hash": "a4868653bb6f8972e87e4c446ab8a445a15b25dedb8594cc74c480f8152ea86a"
  },
  "kernelspec": {
   "display_name": "Python 3.8.10 64-bit",
   "language": "python",
   "name": "python3"
  },
  "language_info": {
   "codemirror_mode": {
    "name": "ipython",
    "version": 3
   },
   "file_extension": ".py",
   "mimetype": "text/x-python",
   "name": "python",
   "nbconvert_exporter": "python",
   "pygments_lexer": "ipython3",
   "version": "3.8.10"
  },
  "orig_nbformat": 4
 },
 "nbformat": 4,
 "nbformat_minor": 2
}
